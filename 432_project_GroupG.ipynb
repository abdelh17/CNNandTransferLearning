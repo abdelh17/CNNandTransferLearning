{
  "cells": [
    {
      "cell_type": "markdown",
      "metadata": {
        "id": "view-in-github",
        "colab_type": "text"
      },
      "source": [
        "<a href=\"https://colab.research.google.com/github/abdelh17/COMP432-GroupG/blob/main/432_project_GroupG.ipynb\" target=\"_parent\"><img src=\"https://colab.research.google.com/assets/colab-badge.svg\" alt=\"Open In Colab\"/></a>"
      ]
    },
    {
      "cell_type": "code",
      "source": [
        "# the 3 datasets can be found in the zip file in this drive document\n",
        "!gdown 1wK7-PccXDY7tGTzQpwLD7Ok1krBxcvhi"
      ],
      "metadata": {
        "id": "jVzoftFD31sL"
      },
      "execution_count": null,
      "outputs": []
    },
    {
      "cell_type": "code",
      "source": [
        "zip_file_path = 'project_datasets.zip'\n",
        "\n",
        "with zipfile.ZipFile(zip_file_path, 'r') as zip_ref:\n",
        "    zip_ref.extractall()\n",
        "\n",
        "# names of the datasets\n",
        "extracted_dirs = ['d1_colorectal_cancer', 'd2_prostate_cancer', 'd3_animal_faces']\n",
        "# dictionary of datasets\n",
        "datasets_dict = {}\n"
      ],
      "metadata": {
        "id": "InNjl6Rf350h"
      },
      "execution_count": null,
      "outputs": []
    },
    {
      "cell_type": "code",
      "source": [
        "# resize, make tensor, normalize\n",
        "transform = transforms.Compose([\n",
        "    transforms.Resize((224, 224)), #for resnet18\n",
        "    transforms.ToTensor(),\n",
        "    transforms.Normalize(mean=[0.485, 0.456, 0.406], std=[0.229, 0.224, 0.225])\n",
        "])\n",
        "\n",
        "# applies transformations and adds subfolder in the dictionary\n",
        "for dir_name in extracted_dirs:\n",
        "    dataset_path = os.path.join('project_datasets/', dir_name)\n",
        "    if os.path.exists(dataset_path):\n",
        "        datasets_dict[dir_name] = datasets.ImageFolder(dataset_path, transform=transform)\n",
        "    else:\n",
        "        print(f\"The directory {dataset_path} does not exist.\")"
      ],
      "metadata": {
        "id": "GtvuQyg037Sk"
      },
      "execution_count": null,
      "outputs": []
    },
    {
      "cell_type": "code",
      "source": [
        "# need to unnormalize to show the original image since it was normalized in the previous step\n",
        "def unnormalize(img_tensor):\n",
        "    img = img_tensor.clone()  # Clone the tensor to avoid modifying it\n",
        "    img = img.numpy().transpose((1, 2, 0))  # Convert from tensor image\n",
        "\n",
        "    # unnormalize\n",
        "    mean = np.array([0.485, 0.456, 0.406])\n",
        "    std = np.array([0.229, 0.224, 0.225])\n",
        "    img = img * std + mean  # Apply the reverse of normalization\n",
        "    img = np.clip(img, 0, 1)\n",
        "\n",
        "    return img\n",
        "\n",
        "# plotting\n",
        "fig, axs = plt.subplots(2, 3, figsize=(15, 10))\n",
        "\n",
        "dataset_names = list(datasets_dict.keys())\n",
        "\n",
        "for j in range(3):\n",
        "    dataset_name = dataset_names[j]\n",
        "    dataset = datasets_dict[dataset_name]\n",
        "\n",
        "    # randomly choose image in dataset\n",
        "    img_tensor, _ = random.choice(dataset)\n",
        "\n",
        "    # display normalized image\n",
        "    axs[0, j].imshow(img_tensor.permute(1, 2, 0))\n",
        "    axs[0, j].set_title(f\"{dataset_name} (Normalized)\")\n",
        "    axs[0, j].axis('off')\n",
        "\n",
        "    # display original image\n",
        "    unorm_img = unnormalize(img_tensor)\n",
        "\n",
        "    axs[1, j].imshow(unorm_img)\n",
        "    axs[1, j].set_title(f\"{dataset_name} (Original)\")\n",
        "    axs[1, j].axis('off')\n",
        "\n",
        "plt.tight_layout()\n",
        "plt.show()\n"
      ],
      "metadata": {
        "id": "Gtwye97X3935"
      },
      "execution_count": null,
      "outputs": []
    },
    {
      "cell_type": "code",
      "source": [
        "batch_size = 32\n",
        "\n",
        "dataset_colorectal = datasets_dict['d1_colorectal_cancer']\n",
        "\n",
        "train_size = int(0.7 * len(dataset_colorectal))\n",
        "test_size = len(dataset_colorectal) - train_size\n",
        "\n",
        "train_dataset, test_dataset = random_split(dataset_colorectal, [train_size, test_size])\n",
        "\n",
        "colorectal_loader = DataLoader(dataset_colorectal, batch_size=batch_size, shuffle=False)\n",
        "train_loader = DataLoader(train_dataset,batch_size=batch_size, shuffle=True)\n",
        "test_loader = DataLoader(test_dataset,batch_size=batch_size, shuffle=False)"
      ],
      "metadata": {
        "id": "VfqvNFF04U3N"
      },
      "execution_count": null,
      "outputs": []
    },
    {
      "cell_type": "code",
      "source": [
        "device = torch.device(\"cuda\" if torch.cuda.is_available() else \"cpu\")\n",
        "print(f\"Using device: {device}\")\n",
        "\n",
        "# use untrained ResNet model\n",
        "model = resnet18(weights=None)\n",
        "\n",
        "# outputs of the layer before the fc layer (512)\n",
        "num_ftrs = model.fc.in_features\n",
        "\n",
        "# remove fully connected layer for feature extraction\n",
        "model.fc = nn.Identity()\n",
        "\n",
        "# add fc for predictions\n",
        "num_classes = 3\n",
        "model.fc_pred = nn.Linear(in_features=num_ftrs, out_features=num_classes)\n",
        "\n",
        "model.to(device)"
      ],
      "metadata": {
        "id": "w-edP7sV4Wj8"
      },
      "execution_count": null,
      "outputs": []
    },
    {
      "cell_type": "code",
      "source": [
        "criterion = nn.CrossEntropyLoss()\n",
        "optimizer = optim.SGD(model.parameters(), lr=0.01, momentum=0.7)\n",
        "\n",
        "# learning rate is modified by a factor of 0.1 each 5 epochs\n",
        "scheduler = StepLR(optimizer, step_size=5, gamma=0.1)\n",
        "\n",
        "num_epochs = 10\n",
        "\n",
        "# for plotting accuracy and loss\n",
        "epoch_accuracies=[]\n",
        "epoch_losses=[]\n",
        "\n",
        "# training loop\n",
        "for epoch in range(num_epochs):\n",
        "    model.train()\n",
        "    running_loss = 0.0\n",
        "    running_corrects = 0\n",
        "\n",
        "    # calculate 1 epoch time\n",
        "    if epoch == 0:\n",
        "      start_time = time.time()\n",
        "\n",
        "    for inputs, labels in train_loader:\n",
        "        inputs, labels = inputs.to(device), labels.to(device)\n",
        "\n",
        "        optimizer.zero_grad() #zero the previous gradients\n",
        "\n",
        "        outputs = model(inputs)\n",
        "        predictions = model.fc_pred(outputs)\n",
        "        loss = criterion(predictions, labels)\n",
        "\n",
        "        loss.backward()\n",
        "        optimizer.step()\n",
        "\n",
        "        running_loss += loss.item()\n",
        "        _, preds = torch.max(predictions, 1)\n",
        "        running_corrects += torch.sum(preds == labels.data)\n",
        "\n",
        "    if epoch == 0:\n",
        "      end_time = time.time()\n",
        "\n",
        "    epoch_loss = running_loss / len(train_loader)\n",
        "    epoch_accuracy = running_corrects.double() / len(train_loader.dataset)\n",
        "\n",
        "    epoch_accuracies.append(epoch_accuracy.item())\n",
        "    epoch_losses.append(epoch_loss)\n",
        "\n",
        "    scheduler.step()\n",
        "\n",
        "    print(f'Epoch {epoch + 1}/{num_epochs}, Train Loss: {epoch_loss:.4f}, Train Accuracy: {epoch_accuracy*100:.2f}%')\n",
        "print(f\"Wall clock time for one epoch: {end_time-start_time}\")"
      ],
      "metadata": {
        "id": "z8kraDNOF7aW"
      },
      "execution_count": null,
      "outputs": []
    },
    {
      "cell_type": "code",
      "source": [
        "plt.figure(figsize=(10, 10))\n",
        "\n",
        "plt.subplot(2, 1, 1)\n",
        "plt.plot(range(1, num_epochs + 1), epoch_accuracies, marker='o')\n",
        "plt.title('Accuracy')\n",
        "plt.xlabel('Epoch')\n",
        "plt.ylabel('Accuracy')\n",
        "plt.grid(True)\n",
        "\n",
        "plt.subplot(2, 1, 2)\n",
        "plt.plot(range(1, num_epochs + 1), epoch_losses, marker='o', color='r')\n",
        "plt.title('Loss')\n",
        "plt.xlabel('Epoch')\n",
        "plt.ylabel('Loss')\n",
        "plt.grid(True)\n",
        "\n",
        "# Adjust layout to prevent clipping of ylabel\n",
        "plt.tight_layout()\n",
        "\n",
        "plt.show()\n"
      ],
      "metadata": {
        "id": "QRUc9Xp7GAlm"
      },
      "execution_count": null,
      "outputs": []
    },
    {
      "cell_type": "code",
      "source": [
        "# testing loop\n",
        "model.eval() #won't compute gradients\n",
        "test_loss = 0.0\n",
        "total = 0\n",
        "correct = 0\n",
        "\n",
        "true_labels = []\n",
        "predicted_labels = []\n",
        "\n",
        "with torch.no_grad():\n",
        "    for inputs, labels in test_loader:\n",
        "        inputs, labels = inputs.to(device), labels.to(device)\n",
        "\n",
        "        outputs = model(inputs)\n",
        "        predictions = model.fc_pred(outputs)\n",
        "        loss = criterion(predictions, labels)\n",
        "        test_loss += loss.item()\n",
        "\n",
        "        _, predicted = torch.max(predictions, 1)\n",
        "        total += labels.size(0)\n",
        "        correct += (predicted == labels).sum().item()\n",
        "\n",
        "        # needed for recall and precision\n",
        "        true_labels.extend(labels.cpu().numpy())\n",
        "        predicted_labels.extend(predicted.cpu().numpy())\n",
        "\n",
        "test_accuracy = correct / total\n",
        "print(f'Test Loss: {test_loss / len(test_loader):.4f}, Test Accuracy: {test_accuracy * 100:.2f}%')\n"
      ],
      "metadata": {
        "colab": {
          "base_uri": "https://localhost:8080/"
        },
        "id": "TMge0GRBGI7M",
        "outputId": "fb199a71-8dfd-4e5f-df49-4fc20bc6ebbe"
      },
      "execution_count": null,
      "outputs": [
        {
          "output_type": "stream",
          "name": "stdout",
          "text": [
            "Test Loss: 0.0759, Test Accuracy: 97.67%\n"
          ]
        }
      ]
    },
    {
      "cell_type": "code",
      "source": [
        "# calculate precision, recall, and F1-score\n",
        "precision, recall, f1, _ = precision_recall_fscore_support(true_labels, predicted_labels, average='weighted')\n",
        "\n",
        "print(f'Precision: {precision:.4f}, Recall: {recall:.4f}, F1-Score: {f1:.4f}')"
      ],
      "metadata": {
        "id": "74W73lD9NE-S",
        "colab": {
          "base_uri": "https://localhost:8080/"
        },
        "outputId": "11ac6fce-daa2-4004-9b4b-21d11cdbd2e5"
      },
      "execution_count": null,
      "outputs": [
        {
          "output_type": "stream",
          "name": "stdout",
          "text": [
            "Precision: 0.9769, Recall: 0.9767, F1-Score: 0.9766\n"
          ]
        }
      ]
    }
  ],
  "metadata": {
    "colab": {
      "provenance": [],
      "include_colab_link": true
    },
    "kernelspec": {
      "display_name": "Python 3 (ipykernel)",
      "language": "python",
      "name": "python3"
    },
    "language_info": {
      "codemirror_mode": {
        "name": "ipython",
        "version": 3
      },
      "file_extension": ".py",
      "mimetype": "text/x-python",
      "name": "python",
      "nbconvert_exporter": "python",
      "pygments_lexer": "ipython3",
      "version": "3.9.12"
    }
  },
  "nbformat": 4,
  "nbformat_minor": 0
}